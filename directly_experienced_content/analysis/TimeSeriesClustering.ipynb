{
 "cells": [
  {
   "cell_type": "markdown",
   "metadata": {
    "id": "Er_oUb7buLIt",
    "pycharm": {
     "name": "#%% md\n"
    }
   },
   "source": [
    "# Content\n",
    "\n",
    "Time series clustering using K means with Euclidean and DTW distance"
   ]
  },
  {
   "cell_type": "code",
   "execution_count": null,
   "metadata": {
    "colab": {
     "base_uri": "https://localhost:8080/",
     "height": 368
    },
    "id": "wfCh4bBIuLIx",
    "outputId": "7348a3fa-bcf0-4494-b901-eddb0a3a8066",
    "pycharm": {
     "name": "#%%\n"
    }
   },
   "outputs": [],
   "source": [
    "%matplotlib inline\n",
    "from tslearn.clustering import silhouette_score\n",
    "\n",
    "import numpy as np\n",
    "import matplotlib.pyplot as plt\n",
    "plt.rcParams['figure.figsize'] = [25, 8]\n",
    "\n",
    "from tslearn.clustering import TimeSeriesKMeans\n",
    "import pandas as pd\n",
    "import matplotlib\n",
    "import json\n"
   ]
  },
  {
   "attachments": {},
   "cell_type": "markdown",
   "metadata": {
    "pycharm": {
     "name": "#%% md\n"
    }
   },
   "source": [
    "# Preparing the data"
   ]
  },
  {
   "cell_type": "code",
   "execution_count": null,
   "metadata": {
    "collapsed": false,
    "pycharm": {
     "name": "#%%\n"
    }
   },
   "outputs": [],
   "source": [
    "data = pd.read_csv('./data/data_long.csv')\n",
    "\n",
    "def listify(row):\n",
    "    row = str(row).replace('[', '').replace(']', '').split(',')\n",
    "    row = [float(y) for y in row]\n",
    "\n",
    "    return np.asarray(row)\n",
    "\n",
    "data.loc[:, 'points'] = data.loc[:, 'points'].apply(listify)\n",
    "points = data['points']"
   ]
  },
  {
   "cell_type": "code",
   "execution_count": null,
   "metadata": {
    "id": "fJar_Zv0uLI0",
    "outputId": "af7264dd-7e82-4c80-ccd7-3de23b18105e",
    "pycharm": {
     "name": "#%%\n"
    }
   },
   "outputs": [],
   "source": [
    "\n",
    "points = np.array(points.values.tolist())\n",
    "points.resize(points.shape[0], 900, 1)\n",
    "print(points.shape)"
   ]
  },
  {
   "cell_type": "code",
   "execution_count": null,
   "metadata": {
    "id": "npO4niXnuLI1",
    "pycharm": {
     "name": "#%%\n"
    }
   },
   "outputs": [],
   "source": [
    "seed = 10\n",
    "np.random.seed(seed)\n",
    "X_train = points\n",
    "sz = X_train.shape[1]"
   ]
  },
  {
   "cell_type": "code",
   "execution_count": null,
   "metadata": {
    "collapsed": false,
    "pycharm": {
     "name": "#%%\n"
    }
   },
   "outputs": [],
   "source": [
    "\n",
    "print(np.mean(X_train[1,:]))\n",
    "print(np.std(X_train[1,:]))"
   ]
  },
  {
   "attachments": {},
   "cell_type": "markdown",
   "metadata": {
    "pycharm": {
     "name": "#%% md\n"
    }
   },
   "source": [
    "#### Looking at some of the patterns"
   ]
  },
  {
   "cell_type": "code",
   "execution_count": null,
   "metadata": {
    "id": "s7fWpEuBuLI2",
    "outputId": "75281666-954c-4750-b1da-ab4e542fc6f6",
    "pycharm": {
     "name": "#%%\n"
    }
   },
   "outputs": [],
   "source": [
    "for yi in range(12):\n",
    "    plt.subplot(4, 3, yi + 1)\n",
    "    plt.plot(X_train[yi].ravel(), \"k-\", alpha=.2)"
   ]
  },
  {
   "attachments": {},
   "cell_type": "markdown",
   "metadata": {
    "id": "loG5BNA4uLI7",
    "pycharm": {
     "name": "#%% md\n"
    }
   },
   "source": [
    "## Training the model and saving the results (saved in /analysis/plots/cluster/).\n",
    "  * Using Euclidean distance"
   ]
  },
  {
   "cell_type": "code",
   "execution_count": null,
   "metadata": {
    "id": "4WBONmu8uLI8",
    "outputId": "acc704cc-cac6-4e14-8f40-e2b062621e38",
    "pycharm": {
     "name": "#%%\n"
    }
   },
   "outputs": [],
   "source": [
    "# Euclidean k-means\n",
    "\n",
    "seed = 10\n",
    "np.random.seed(seed)\n",
    "\n",
    "\n",
    "n_clusterss = [27]\n",
    "\n",
    "for n_clusters in n_clusterss:\n",
    "    print(\"Euclidean k-means ---- {}\".format(n_clusters))\n",
    "    km = TimeSeriesKMeans(n_clusters=n_clusters, verbose=False, random_state=seed, n_jobs=-1)\n",
    "    cluster_labels = km.fit_predict(X_train)\n",
    "\n",
    "    centers = []\n",
    "    for i in range(0, 27):\n",
    "        centers.append(list(km.cluster_centers_[i].flatten()))\n",
    "\n",
    "    pd.DataFrame(np.asarray(centers).transpose()).to_csv(\"./data/cluster_centers.csv\")\n",
    "\n",
    "    print(\"Euclidean silhoutte: {:.2f}\".format(silhouette_score(X_train, cluster_labels, metric=\"euclidean\")))\n",
    "\n",
    "    # Plot each average curve independently:\n",
    "    for yi in range(n_clusters):\n",
    "        plt.plot(km.cluster_centers_[yi].ravel(), \"r-\", linewidth=40)\n",
    "        plt.tight_layout()\n",
    "\n",
    "        plt.xlim(0, sz)\n",
    "        plt.ylim(0, 100)\n",
    "        plt.axis('off')\n",
    "\n",
    "        fig = matplotlib.pyplot.gcf()\n",
    "        fig.set_size_inches(18.5, 18.5)\n",
    "\n",
    "        plt.savefig(\"./plots/cluster/cluster_{}_{}.png\".format(yi, n_clusters))\n",
    "        plt.close()\n",
    "\n",
    "    fig = plt.figure()\n",
    "    for yi in range(n_clusters):\n",
    "        ax = plt.subplot(9, 3, yi + 1)\n",
    "        for xx in X_train[cluster_labels == yi]:\n",
    "            plt.plot(xx.ravel(), \"k-\", alpha=.2)\n",
    "        plt.plot(km.cluster_centers_[yi].ravel(), \"r-\")\n",
    "\n",
    "        plt.xlim(0, sz)\n",
    "        plt.ylim(0, 100)\n",
    "        plt.text(0.37, 1.05,'Cluster %d' % (yi + 1),\n",
    "                 transform=plt.gca().transAxes, fontsize=20, fontweight='bold')\n",
    "\n",
    "        print(\"Cluster {} done!\".format(yi))\n",
    "\n",
    "    data['cluster_labels'] = cluster_labels\n",
    "    data.to_csv(\"./data/data_long_cluster_{}.csv\".format(str(n_clusters)))\n",
    "    plt.tight_layout(pad=1.2, h_pad=1.5)\n",
    "\n",
    "    fig = matplotlib.pyplot.gcf()\n",
    "    fig.set_size_inches(10, 20)\n",
    "    \n",
    "    fig.savefig(\"./plots/cluster/k_means_{}.png\".format(str(n_clusters)), dpi=500)\n",
    "    plt.close()"
   ]
  },
  {
   "attachments": {},
   "cell_type": "markdown",
   "metadata": {},
   "source": [
    "#### Convert cluster centers to polynomials"
   ]
  },
  {
   "cell_type": "code",
   "execution_count": null,
   "metadata": {
    "pycharm": {
     "name": "#%%\n"
    }
   },
   "outputs": [],
   "source": [
    "def get_poly(row, i):\n",
    "    #plot_lines(row, \"cluster_{}_{}\".format(i, np.mean(row)), 0, 0)\n",
    "    xs = np.linspace(0, 90, num=900)\n",
    "    return json.dumps(list(np.polyfit(xs, row, 68)))\n",
    "\n",
    "cluster_centers = pd.read_csv('./data/cluster_centers.csv')\n",
    "cluster_polynomials = {}\n",
    "\n",
    "for i in range(0, 27):\n",
    "    cluster_polynomials[i] = get_poly(np.asarray(cluster_centers[str(i)]), i)\n",
    "    print(i)\n",
    "\n",
    "cp_pd = pd.DataFrame.from_dict(cluster_polynomials, orient='index')\n",
    "cp_pd.to_csv('./data/cluster_polynomials.csv')"
   ]
  }
 ],
 "metadata": {
  "colab": {
   "provenance": []
  },
  "kernelspec": {
   "display_name": "Python 3",
   "language": "python",
   "name": "python3"
  },
  "language_info": {
   "codemirror_mode": {
    "name": "ipython",
    "version": 3
   },
   "file_extension": ".py",
   "mimetype": "text/x-python",
   "name": "python",
   "nbconvert_exporter": "python",
   "pygments_lexer": "ipython3",
   "version": "3.8.13"
  },
  "vscode": {
   "interpreter": {
    "hash": "0ba5ede13f0387f51f50b72b517e398c81deb77e749ad9440ae5ea50ce01832d"
   }
  }
 },
 "nbformat": 4,
 "nbformat_minor": 0
}
